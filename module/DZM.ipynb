{
 "cells": [
  {
   "cell_type": "code",
   "execution_count": 4,
   "metadata": {},
   "outputs": [],
   "source": [
    "import openai\n",
    "from gtts import gTTS\n",
    "from datetime import datetime\n",
    "\n",
    "#저장해둔 api key 불러옴\n",
    "key_file = open(\"chatgpt_api_key.txt\", \"r\")\n",
    "key_data = key_file.read()\n",
    "key_file.close()  \n",
    "\n",
    "# 발급받은 API 키 설정\n",
    "OPENAI_API_KEY = key_data\n",
    "\n",
    "# openai API 키 인증\n",
    "openai.api_key = OPENAI_API_KEY\n"
   ]
  },
  {
   "cell_type": "code",
   "execution_count": 5,
   "metadata": {},
   "outputs": [],
   "source": [
    "def DZM_TTS(answer,user_input):\n",
    "    \n",
    "    tts = gTTS(\n",
    "        text = answer,\n",
    "        lang = 'en', slow = False\n",
    "    )\n",
    "    tts.save('{0}.mp3'.format(user_input))\n",
    "    "
   ]
  },
  {
   "cell_type": "code",
   "execution_count": 6,
   "metadata": {},
   "outputs": [
    {
     "name": "stdout",
     "output_type": "stream",
     "text": [
      "User's input was I don't wnat to workout now!\n",
      "\n",
      "Just remember that every workout brings you one step closer to your goals and helps improve your overall health. Try to focus on the positive benefits and start with a small workout, even just a 10-minute walk, to get your body moving. Remember, consistency is key to achieving your fitness goals.\n",
      "\n"
     ]
    }
   ],
   "source": [
    "def before_chat(inp, role = \"user\"):\n",
    "    message_history = [{\"role\": \"system\", \"content\": f\"When you reply, user do not want to workout\"}]\n",
    "    message_history.append({\"role\": \"system\", \"content\": f\"You are specialized in workout motivation, and you will reply very short.\"})\n",
    "    message_history.append({\"role\" : role, \"content\" : inp})\n",
    "\n",
    "    completion = openai.ChatCompletion.create(\n",
    "        model = \"gpt-3.5-turbo\",\n",
    "        messages = message_history,\n",
    "    )\n",
    "    \n",
    "    reply_content = completion.choices[0].message.content\n",
    "    print(reply_content)\n",
    "    message_history.append({\"role\" : \"user\", \"content\" : reply_content})\n",
    "    return reply_content\n",
    "\n",
    "for i in range(1):\n",
    "    user_input = \"I don't wnat to workout now!\"\n",
    "    # user_input = input(\"> : \")\n",
    "    print(\"User's input was\", user_input)\n",
    "    print()\n",
    "    answer = before_chat(user_input)\n",
    "    print()\n",
    "\n",
    "DZM_TTS(answer,'before exercise')\n",
    "\n",
    "    \n"
   ]
  },
  {
   "cell_type": "code",
   "execution_count": 7,
   "metadata": {},
   "outputs": [
    {
     "name": "stdout",
     "output_type": "stream",
     "text": [
      "User's input was please make me motivative to reach my goals.\n",
      "\n",
      "You got this! You are strong, capable, and determined. Remember why you started and keep pushing yourself towards your goals. Believe in yourself and never give up. Every day is a new opportunity to get closer to where you want to be. Keep moving forward and stay motivated!\n",
      "\n"
     ]
    }
   ],
   "source": [
    "def progress_chat(inp, role = \"user\"):\n",
    "    message_history = [{\"role\": \"system\", \"content\": f\"When you reply, user is working out.\"}]\n",
    "    message_history.append({\"role\": \"system\", \"content\": f\"You are specialized in workout motivation, and you will can reply just only one sentence.\"})\n",
    "    message_history.append({\"role\" : role, \"content\" : inp})\n",
    "\n",
    "    completion = openai.ChatCompletion.create(\n",
    "        model = \"gpt-3.5-turbo\",\n",
    "        messages = message_history,\n",
    "    )\n",
    "    \n",
    "    reply_content = completion.choices[0].message.content\n",
    "    print(reply_content)\n",
    "    message_history.append({\"role\" : \"user\", \"content\" : reply_content})\n",
    "    return reply_content\n",
    "\n",
    "for i in range(1):\n",
    "    user_input = \"please make me motivative to reach my goals.\"\n",
    "    # user_input = input(\"> : \")\n",
    "    print(\"User's input was\", user_input)\n",
    "    print()\n",
    "    answer = before_chat(user_input)\n",
    "    print()\n",
    "DZM_TTS(answer,'during exercise')"
   ]
  },
  {
   "cell_type": "code",
   "execution_count": null,
   "metadata": {},
   "outputs": [],
   "source": []
  }
 ],
 "metadata": {
  "kernelspec": {
   "display_name": "DL",
   "language": "python",
   "name": "python3"
  },
  "language_info": {
   "codemirror_mode": {
    "name": "ipython",
    "version": 3
   },
   "file_extension": ".py",
   "mimetype": "text/x-python",
   "name": "python",
   "nbconvert_exporter": "python",
   "pygments_lexer": "ipython3",
   "version": "3.10.6"
  },
  "orig_nbformat": 4
 },
 "nbformat": 4,
 "nbformat_minor": 2
}
