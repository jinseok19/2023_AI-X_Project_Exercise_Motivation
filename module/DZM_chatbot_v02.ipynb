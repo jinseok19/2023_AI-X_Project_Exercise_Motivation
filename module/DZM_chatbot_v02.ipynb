{
  "cells": [
    {
      "cell_type": "code",
      "execution_count": 1,
      "metadata": {
        "colab": {
          "base_uri": "https://localhost:8080/"
        },
        "id": "2TGDBlcgw7AX",
        "outputId": "c7452834-fd12-4110-cd6d-c5e6aef41f0a"
      },
      "outputs": [
        {
          "name": "stdout",
          "output_type": "stream",
          "text": [
            "Mounted at /content/drive\n"
          ]
        }
      ],
      "source": [
        "from google.colab import drive\n",
        "drive.mount('/content/drive')"
      ]
    },
    {
      "cell_type": "code",
      "execution_count": 2,
      "metadata": {
        "colab": {
          "base_uri": "https://localhost:8080/"
        },
        "id": "itQLDAZFw9Fh",
        "outputId": "21721b1d-3f28-42c1-ecdc-765778508c96"
      },
      "outputs": [
        {
          "name": "stdout",
          "output_type": "stream",
          "text": [
            "/content/drive/MyDrive/Colab Notebooks/AI+X 중급\n"
          ]
        }
      ],
      "source": [
        "%cd /content/drive/MyDrive/Colab Notebooks/AI+X 중급"
      ]
    },
    {
      "cell_type": "code",
      "execution_count": 1,
      "metadata": {
        "colab": {
          "base_uri": "https://localhost:8080/"
        },
        "id": "dmwVDJWrxIan",
        "outputId": "11d62487-47e5-419c-9e0e-f069b780f545"
      },
      "outputs": [
        {
          "name": "stdout",
          "output_type": "stream",
          "text": [
            "Collecting gradio\n",
            "  Downloading gradio-3.33.1-py3-none-any.whl (20.0 MB)\n",
            "     --------------------------------------- 20.0/20.0 MB 38.4 MB/s eta 0:00:00\n",
            "Collecting semantic-version\n",
            "  Downloading semantic_version-2.10.0-py2.py3-none-any.whl (15 kB)\n",
            "Collecting mdit-py-plugins<=0.3.3\n",
            "  Downloading mdit_py_plugins-0.3.3-py3-none-any.whl (50 kB)\n",
            "     ---------------------------------------- 50.5/50.5 kB ? eta 0:00:00\n",
            "Collecting pydub\n",
            "  Downloading pydub-0.25.1-py2.py3-none-any.whl (32 kB)\n",
            "Requirement already satisfied: matplotlib in c:\\users\\서대표\\appdata\\local\\programs\\python\\python310\\lib\\site-packages (from gradio) (3.5.3)\n",
            "Requirement already satisfied: aiohttp in c:\\users\\서대표\\appdata\\local\\programs\\python\\python310\\lib\\site-packages (from gradio) (3.8.4)\n",
            "Collecting pydantic\n",
            "  Downloading pydantic-1.10.8-cp310-cp310-win_amd64.whl (2.1 MB)\n",
            "     ---------------------------------------- 2.1/2.1 MB 44.9 MB/s eta 0:00:00\n",
            "Collecting websockets>=10.0\n",
            "  Downloading websockets-11.0.3-cp310-cp310-win_amd64.whl (124 kB)\n",
            "     ---------------------------------------- 124.7/124.7 kB ? eta 0:00:00\n",
            "Requirement already satisfied: jinja2 in c:\\users\\서대표\\appdata\\local\\programs\\python\\python310\\lib\\site-packages (from gradio) (3.1.2)\n",
            "Collecting aiofiles\n",
            "  Downloading aiofiles-23.1.0-py3-none-any.whl (14 kB)\n",
            "Collecting pyyaml\n",
            "  Downloading PyYAML-6.0-cp310-cp310-win_amd64.whl (151 kB)\n",
            "     -------------------------------------- 151.7/151.7 kB 9.4 MB/s eta 0:00:00\n",
            "Collecting uvicorn>=0.14.0\n",
            "  Downloading uvicorn-0.22.0-py3-none-any.whl (58 kB)\n",
            "     ---------------------------------------- 58.3/58.3 kB 3.0 MB/s eta 0:00:00\n",
            "Collecting huggingface-hub>=0.14.0\n",
            "  Downloading huggingface_hub-0.15.1-py3-none-any.whl (236 kB)\n",
            "     ---------------------------------------- 236.8/236.8 kB ? eta 0:00:00\n",
            "Collecting altair>=4.2.0\n",
            "  Downloading altair-5.0.1-py3-none-any.whl (471 kB)\n",
            "     ------------------------------------- 471.5/471.5 kB 30.8 MB/s eta 0:00:00\n",
            "Collecting gradio-client>=0.2.4\n",
            "  Downloading gradio_client-0.2.5-py3-none-any.whl (288 kB)\n",
            "     ------------------------------------- 288.1/288.1 kB 18.5 MB/s eta 0:00:00\n",
            "Requirement already satisfied: pillow in c:\\users\\서대표\\appdata\\local\\programs\\python\\python310\\lib\\site-packages (from gradio) (9.2.0)\n",
            "Collecting python-multipart\n",
            "  Downloading python_multipart-0.0.6-py3-none-any.whl (45 kB)\n",
            "     ---------------------------------------- 45.7/45.7 kB ? eta 0:00:00\n",
            "Requirement already satisfied: pygments>=2.12.0 in c:\\users\\서대표\\appdata\\local\\programs\\python\\python310\\lib\\site-packages (from gradio) (2.13.0)\n",
            "Requirement already satisfied: pandas in c:\\users\\서대표\\appdata\\local\\programs\\python\\python310\\lib\\site-packages (from gradio) (1.4.3)\n",
            "Requirement already satisfied: numpy in c:\\users\\서대표\\appdata\\local\\programs\\python\\python310\\lib\\site-packages (from gradio) (1.23.2)\n",
            "Collecting orjson\n",
            "  Downloading orjson-3.9.0-cp310-none-win_amd64.whl (191 kB)\n",
            "     ---------------------------------------- 191.7/191.7 kB ? eta 0:00:00\n",
            "Collecting fastapi\n",
            "  Downloading fastapi-0.96.0-py3-none-any.whl (57 kB)\n",
            "     ---------------------------------------- 57.1/57.1 kB ? eta 0:00:00\n",
            "Collecting ffmpy\n",
            "  Downloading ffmpy-0.3.0.tar.gz (4.8 kB)\n",
            "  Preparing metadata (setup.py): started\n",
            "  Preparing metadata (setup.py): finished with status 'done'\n",
            "Collecting httpx\n",
            "  Downloading httpx-0.24.1-py3-none-any.whl (75 kB)\n",
            "     ---------------------------------------- 75.4/75.4 kB ? eta 0:00:00\n",
            "Collecting markdown-it-py[linkify]>=2.0.0\n",
            "  Downloading markdown_it_py-3.0.0-py3-none-any.whl (87 kB)\n",
            "     ---------------------------------------- 87.5/87.5 kB ? eta 0:00:00\n",
            "Requirement already satisfied: requests in c:\\users\\서대표\\appdata\\local\\programs\\python\\python310\\lib\\site-packages (from gradio) (2.28.1)\n",
            "Requirement already satisfied: markupsafe in c:\\users\\서대표\\appdata\\local\\programs\\python\\python310\\lib\\site-packages (from gradio) (2.1.1)\n",
            "Requirement already satisfied: typing-extensions in c:\\users\\서대표\\appdata\\local\\programs\\python\\python310\\lib\\site-packages (from gradio) (4.4.0)\n",
            "Collecting toolz\n",
            "  Downloading toolz-0.12.0-py3-none-any.whl (55 kB)\n",
            "     ---------------------------------------- 55.8/55.8 kB 2.8 MB/s eta 0:00:00\n",
            "Requirement already satisfied: jsonschema>=3.0 in c:\\users\\서대표\\appdata\\local\\programs\\python\\python310\\lib\\site-packages (from altair>=4.2.0->gradio) (4.14.0)\n",
            "Collecting fsspec\n",
            "  Downloading fsspec-2023.5.0-py3-none-any.whl (160 kB)\n",
            "     ------------------------------------- 160.1/160.1 kB 10.0 MB/s eta 0:00:00\n",
            "Requirement already satisfied: packaging in c:\\users\\서대표\\appdata\\local\\programs\\python\\python310\\lib\\site-packages (from gradio-client>=0.2.4->gradio) (21.3)\n",
            "Requirement already satisfied: filelock in c:\\users\\서대표\\appdata\\local\\programs\\python\\python310\\lib\\site-packages (from huggingface-hub>=0.14.0->gradio) (3.12.0)\n",
            "Requirement already satisfied: tqdm>=4.42.1 in c:\\users\\서대표\\appdata\\local\\programs\\python\\python310\\lib\\site-packages (from huggingface-hub>=0.14.0->gradio) (4.65.0)\n",
            "Collecting mdurl~=0.1\n",
            "  Downloading mdurl-0.1.2-py3-none-any.whl (10.0 kB)\n",
            "Collecting linkify-it-py<3,>=1\n",
            "  Downloading linkify_it_py-2.0.2-py3-none-any.whl (19 kB)\n",
            "Collecting mdit-py-plugins<=0.3.3\n",
            "  Downloading mdit_py_plugins-0.3.2-py3-none-any.whl (50 kB)\n",
            "     ---------------------------------------- 50.4/50.4 kB ? eta 0:00:00\n",
            "  Downloading mdit_py_plugins-0.3.1-py3-none-any.whl (46 kB)\n",
            "     ---------------------------------------- 46.5/46.5 kB ? eta 0:00:00\n",
            "  Downloading mdit_py_plugins-0.3.0-py3-none-any.whl (43 kB)\n",
            "     ---------------------------------------- 43.7/43.7 kB ? eta 0:00:00\n",
            "  Downloading mdit_py_plugins-0.2.8-py3-none-any.whl (41 kB)\n",
            "     ---------------------------------------- 41.0/41.0 kB 2.1 MB/s eta 0:00:00\n",
            "  Downloading mdit_py_plugins-0.2.7-py3-none-any.whl (41 kB)\n",
            "     ---------------------------------------- 41.0/41.0 kB 1.9 MB/s eta 0:00:00\n",
            "  Downloading mdit_py_plugins-0.2.6-py3-none-any.whl (39 kB)\n",
            "  Downloading mdit_py_plugins-0.2.5-py3-none-any.whl (39 kB)\n",
            "  Downloading mdit_py_plugins-0.2.4-py3-none-any.whl (39 kB)\n",
            "  Downloading mdit_py_plugins-0.2.3-py3-none-any.whl (39 kB)\n",
            "  Downloading mdit_py_plugins-0.2.2-py3-none-any.whl (39 kB)\n",
            "  Downloading mdit_py_plugins-0.2.1-py3-none-any.whl (38 kB)\n",
            "  Downloading mdit_py_plugins-0.2.0-py3-none-any.whl (38 kB)\n",
            "  Downloading mdit_py_plugins-0.1.0-py3-none-any.whl (37 kB)\n",
            "INFO: pip is looking at multiple versions of markdown-it-py[linkify] to determine which version is compatible with other requirements. This could take a while.\n",
            "Collecting markdown-it-py[linkify]>=2.0.0\n",
            "  Downloading markdown_it_py-2.2.0-py3-none-any.whl (84 kB)\n",
            "     ---------------------------------------- 84.5/84.5 kB ? eta 0:00:00\n",
            "Requirement already satisfied: pytz>=2020.1 in c:\\users\\서대표\\appdata\\local\\programs\\python\\python310\\lib\\site-packages (from pandas->gradio) (2022.2.1)\n",
            "Requirement already satisfied: python-dateutil>=2.8.1 in c:\\users\\서대표\\appdata\\local\\programs\\python\\python310\\lib\\site-packages (from pandas->gradio) (2.8.2)\n",
            "Collecting h11>=0.8\n",
            "  Downloading h11-0.14.0-py3-none-any.whl (58 kB)\n",
            "     ---------------------------------------- 58.3/58.3 kB ? eta 0:00:00\n",
            "Requirement already satisfied: click>=7.0 in c:\\users\\서대표\\appdata\\local\\programs\\python\\python310\\lib\\site-packages (from uvicorn>=0.14.0->gradio) (8.1.3)\n",
            "Requirement already satisfied: attrs>=17.3.0 in c:\\users\\서대표\\appdata\\local\\programs\\python\\python310\\lib\\site-packages (from aiohttp->gradio) (22.1.0)\n",
            "Requirement already satisfied: async-timeout<5.0,>=4.0.0a3 in c:\\users\\서대표\\appdata\\local\\programs\\python\\python310\\lib\\site-packages (from aiohttp->gradio) (4.0.2)\n",
            "Requirement already satisfied: charset-normalizer<4.0,>=2.0 in c:\\users\\서대표\\appdata\\local\\programs\\python\\python310\\lib\\site-packages (from aiohttp->gradio) (2.1.1)\n",
            "Requirement already satisfied: multidict<7.0,>=4.5 in c:\\users\\서대표\\appdata\\local\\programs\\python\\python310\\lib\\site-packages (from aiohttp->gradio) (6.0.4)\n",
            "Requirement already satisfied: aiosignal>=1.1.2 in c:\\users\\서대표\\appdata\\local\\programs\\python\\python310\\lib\\site-packages (from aiohttp->gradio) (1.3.1)\n",
            "Requirement already satisfied: frozenlist>=1.1.1 in c:\\users\\서대표\\appdata\\local\\programs\\python\\python310\\lib\\site-packages (from aiohttp->gradio) (1.3.3)\n",
            "Requirement already satisfied: yarl<2.0,>=1.0 in c:\\users\\서대표\\appdata\\local\\programs\\python\\python310\\lib\\site-packages (from aiohttp->gradio) (1.9.2)\n",
            "Collecting starlette<0.28.0,>=0.27.0\n",
            "  Downloading starlette-0.27.0-py3-none-any.whl (66 kB)\n",
            "     ---------------------------------------- 67.0/67.0 kB ? eta 0:00:00\n",
            "Requirement already satisfied: certifi in c:\\users\\서대표\\appdata\\local\\programs\\python\\python310\\lib\\site-packages (from httpx->gradio) (2022.9.24)\n",
            "Collecting httpcore<0.18.0,>=0.15.0\n",
            "  Downloading httpcore-0.17.2-py3-none-any.whl (72 kB)\n",
            "     ---------------------------------------- 72.5/72.5 kB ? eta 0:00:00\n",
            "Collecting sniffio\n",
            "  Downloading sniffio-1.3.0-py3-none-any.whl (10 kB)\n",
            "Requirement already satisfied: idna in c:\\users\\서대표\\appdata\\local\\programs\\python\\python310\\lib\\site-packages (from httpx->gradio) (3.4)\n",
            "Requirement already satisfied: cycler>=0.10 in c:\\users\\서대표\\appdata\\local\\programs\\python\\python310\\lib\\site-packages (from matplotlib->gradio) (0.11.0)\n",
            "Requirement already satisfied: kiwisolver>=1.0.1 in c:\\users\\서대표\\appdata\\local\\programs\\python\\python310\\lib\\site-packages (from matplotlib->gradio) (1.4.4)\n",
            "Requirement already satisfied: pyparsing>=2.2.1 in c:\\users\\서대표\\appdata\\local\\programs\\python\\python310\\lib\\site-packages (from matplotlib->gradio) (3.0.9)\n",
            "Requirement already satisfied: fonttools>=4.22.0 in c:\\users\\서대표\\appdata\\local\\programs\\python\\python310\\lib\\site-packages (from matplotlib->gradio) (4.37.1)\n",
            "Requirement already satisfied: urllib3<1.27,>=1.21.1 in c:\\users\\서대표\\appdata\\local\\programs\\python\\python310\\lib\\site-packages (from requests->gradio) (1.26.12)\n",
            "Requirement already satisfied: colorama in c:\\users\\서대표\\appdata\\local\\programs\\python\\python310\\lib\\site-packages (from click>=7.0->uvicorn>=0.14.0->gradio) (0.4.5)\n",
            "Collecting anyio<5.0,>=3.0\n",
            "  Downloading anyio-3.7.0-py3-none-any.whl (80 kB)\n",
            "     ---------------------------------------- 80.9/80.9 kB ? eta 0:00:00\n",
            "Requirement already satisfied: pyrsistent!=0.17.0,!=0.17.1,!=0.17.2,>=0.14.0 in c:\\users\\서대표\\appdata\\local\\programs\\python\\python310\\lib\\site-packages (from jsonschema>=3.0->altair>=4.2.0->gradio) (0.18.1)\n",
            "Collecting uc-micro-py\n",
            "  Downloading uc_micro_py-1.0.2-py3-none-any.whl (6.2 kB)\n",
            "Requirement already satisfied: six>=1.5 in c:\\users\\서대표\\appdata\\local\\programs\\python\\python310\\lib\\site-packages (from python-dateutil>=2.8.1->pandas->gradio) (1.16.0)\n",
            "Collecting exceptiongroup\n",
            "  Downloading exceptiongroup-1.1.1-py3-none-any.whl (14 kB)\n",
            "Building wheels for collected packages: ffmpy\n",
            "  Building wheel for ffmpy (setup.py): started\n",
            "  Building wheel for ffmpy (setup.py): finished with status 'done'\n",
            "  Created wheel for ffmpy: filename=ffmpy-0.3.0-py3-none-any.whl size=4712 sha256=3c7821553f4cad6997a19577fe0fdcd338425b12c67c737175d20fa6ca5c8cd1\n",
            "  Stored in directory: c:\\users\\서대표\\appdata\\local\\pip\\cache\\wheels\\0c\\c2\\0e\\3b9c6845c6a4e35beb90910cc70d9ac9ab5d47402bd62af0df\n",
            "Successfully built ffmpy\n",
            "Installing collected packages: pydub, ffmpy, websockets, uc-micro-py, toolz, sniffio, semantic-version, pyyaml, python-multipart, pydantic, orjson, mdurl, h11, fsspec, exceptiongroup, aiofiles, uvicorn, markdown-it-py, linkify-it-py, huggingface-hub, anyio, starlette, mdit-py-plugins, httpcore, altair, httpx, fastapi, gradio-client, gradio\n",
            "Successfully installed aiofiles-23.1.0 altair-5.0.1 anyio-3.7.0 exceptiongroup-1.1.1 fastapi-0.96.0 ffmpy-0.3.0 fsspec-2023.5.0 gradio-3.33.1 gradio-client-0.2.5 h11-0.14.0 httpcore-0.17.2 httpx-0.24.1 huggingface-hub-0.15.1 linkify-it-py-2.0.2 markdown-it-py-2.2.0 mdit-py-plugins-0.3.3 mdurl-0.1.2 orjson-3.9.0 pydantic-1.10.8 pydub-0.25.1 python-multipart-0.0.6 pyyaml-6.0 semantic-version-2.10.0 sniffio-1.3.0 starlette-0.27.0 toolz-0.12.0 uc-micro-py-1.0.2 uvicorn-0.22.0 websockets-11.0.3\n"
          ]
        },
        {
          "name": "stderr",
          "output_type": "stream",
          "text": [
            "\n",
            "[notice] A new release of pip available: 22.2.2 -> 23.1.2\n",
            "[notice] To update, run: python.exe -m pip install --upgrade pip\n"
          ]
        },
        {
          "name": "stdout",
          "output_type": "stream",
          "text": [
            "Requirement already satisfied: openai in c:\\users\\서대표\\appdata\\local\\programs\\python\\python310\\lib\\site-packages (0.27.7)\n",
            "Requirement already satisfied: aiohttp in c:\\users\\서대표\\appdata\\local\\programs\\python\\python310\\lib\\site-packages (from openai) (3.8.4)\n",
            "Requirement already satisfied: tqdm in c:\\users\\서대표\\appdata\\local\\programs\\python\\python310\\lib\\site-packages (from openai) (4.65.0)\n",
            "Requirement already satisfied: requests>=2.20 in c:\\users\\서대표\\appdata\\local\\programs\\python\\python310\\lib\\site-packages (from openai) (2.28.1)\n",
            "Requirement already satisfied: charset-normalizer<3,>=2 in c:\\users\\서대표\\appdata\\local\\programs\\python\\python310\\lib\\site-packages (from requests>=2.20->openai) (2.1.1)\n",
            "Requirement already satisfied: idna<4,>=2.5 in c:\\users\\서대표\\appdata\\local\\programs\\python\\python310\\lib\\site-packages (from requests>=2.20->openai) (3.4)\n",
            "Requirement already satisfied: certifi>=2017.4.17 in c:\\users\\서대표\\appdata\\local\\programs\\python\\python310\\lib\\site-packages (from requests>=2.20->openai) (2022.9.24)\n",
            "Requirement already satisfied: urllib3<1.27,>=1.21.1 in c:\\users\\서대표\\appdata\\local\\programs\\python\\python310\\lib\\site-packages (from requests>=2.20->openai) (1.26.12)\n",
            "Requirement already satisfied: yarl<2.0,>=1.0 in c:\\users\\서대표\\appdata\\local\\programs\\python\\python310\\lib\\site-packages (from aiohttp->openai) (1.9.2)\n",
            "Requirement already satisfied: attrs>=17.3.0 in c:\\users\\서대표\\appdata\\local\\programs\\python\\python310\\lib\\site-packages (from aiohttp->openai) (22.1.0)\n",
            "Requirement already satisfied: frozenlist>=1.1.1 in c:\\users\\서대표\\appdata\\local\\programs\\python\\python310\\lib\\site-packages (from aiohttp->openai) (1.3.3)\n",
            "Requirement already satisfied: multidict<7.0,>=4.5 in c:\\users\\서대표\\appdata\\local\\programs\\python\\python310\\lib\\site-packages (from aiohttp->openai) (6.0.4)\n",
            "Requirement already satisfied: aiosignal>=1.1.2 in c:\\users\\서대표\\appdata\\local\\programs\\python\\python310\\lib\\site-packages (from aiohttp->openai) (1.3.1)\n",
            "Requirement already satisfied: async-timeout<5.0,>=4.0.0a3 in c:\\users\\서대표\\appdata\\local\\programs\\python\\python310\\lib\\site-packages (from aiohttp->openai) (4.0.2)\n",
            "Requirement already satisfied: colorama in c:\\users\\서대표\\appdata\\local\\programs\\python\\python310\\lib\\site-packages (from tqdm->openai) (0.4.5)\n"
          ]
        },
        {
          "name": "stderr",
          "output_type": "stream",
          "text": [
            "\n",
            "[notice] A new release of pip available: 22.2.2 -> 23.1.2\n",
            "[notice] To update, run: python.exe -m pip install --upgrade pip\n"
          ]
        }
      ],
      "source": [
        "! pip install gradio\n",
        "! pip install openai"
      ]
    },
    {
      "cell_type": "code",
      "execution_count": 21,
      "metadata": {
        "id": "qDrvMgzwz4SX"
      },
      "outputs": [],
      "source": [
        "user_name_list = []\n",
        "with open(\"user_list.json\", 'w') as outfile:\n",
        "      json.dump(user_name_list, outfile)"
      ]
    },
    {
      "cell_type": "code",
      "execution_count": 26,
      "metadata": {
        "colab": {
          "base_uri": "https://localhost:8080/",
          "height": 629
        },
        "id": "oDZ7T9LPxbq3",
        "outputId": "7c2e10e7-2b35-48f0-e9e3-6bb61352798f"
      },
      "outputs": [
        {
          "name": "stderr",
          "output_type": "stream",
          "text": [
            "/usr/local/lib/python3.10/dist-packages/gradio/blocks.py:666: UserWarning: Cannot load compact. Caught Exception: The space compact does not exist\n",
            "  warnings.warn(f\"Cannot load {theme}. Caught Exception: {str(e)}\")\n"
          ]
        },
        {
          "name": "stdout",
          "output_type": "stream",
          "text": [
            "Colab notebook detected. To show errors in colab notebook, set debug=True in launch()\n",
            "Running on public URL: https://7ca13cb837c8d2f24a.gradio.live\n",
            "\n",
            "This share link expires in 72 hours. For free permanent hosting and GPU upgrades (NEW!), check out Spaces: https://huggingface.co/spaces\n"
          ]
        },
        {
          "data": {
            "text/html": [
              "<div><iframe src=\"https://7ca13cb837c8d2f24a.gradio.live\" width=\"100%\" height=\"500\" allow=\"autoplay; camera; microphone; clipboard-read; clipboard-write;\" frameborder=\"0\" allowfullscreen></iframe></div>"
            ],
            "text/plain": [
              "<IPython.core.display.HTML object>"
            ]
          },
          "metadata": {},
          "output_type": "display_data"
        },
        {
          "data": {
            "text/plain": []
          },
          "execution_count": 26,
          "metadata": {},
          "output_type": "execute_result"
        }
      ],
      "source": [
        "import openai\n",
        "import gradio as gr\n",
        "import json\n",
        "from datetime import date\n",
        "\n",
        "# 저장해둔 api key 불러옴\n",
        "key_file = open(\"chatgpt_api_key.txt\", \"r\")\n",
        "key_data = key_file.read()\n",
        "key_file.close()  \n",
        "\n",
        "# 발급받은 API 키 설정\n",
        "OPENAI_API_KEY = key_data\n",
        "\n",
        "# openai API 키 인증\n",
        "openai.api_key = OPENAI_API_KEY\n",
        "\n",
        "# 직접 날짜 받아올때 사용\n",
        "# date = date.today()\n",
        "# today = date.isoformat()\n",
        "# today\n",
        "today = \"2023-01-08\"\n",
        "today\n",
        "\n",
        "# 나중에 user_name은 웹에서 받아오기\n",
        "user_name = \"Amanda\" \n",
        "file_name = user_name + \"_history.json\"\n",
        "\n",
        "with open(\"user_list.json\", 'r') as f:   \n",
        "    user_name_list = json.load(f)\n",
        "\n",
        "message_history = []\n",
        "\n",
        "if user_name in user_name_list:\n",
        "  with open(file_name, 'r') as f:   \n",
        "    message_history = json.load(f)\n",
        "else:\n",
        "  user_name_list.append(user_name)\n",
        "\n",
        "with open(\"user_list.json\", 'w') as outfile:\n",
        "      json.dump(user_name_list, outfile)\n",
        "\n",
        "message_history.append({\"role\": \"system\", \"content\": f\"When you reply, user's workout is done.\"})\n",
        "message_history.append({\"role\": \"system\", \"content\": f\"You are specialized in workout motivation, and you will reply very short.\"})     \n",
        "message_history.append({\"role\": \"system\", \"content\": f\"Your name is DZM\"})         \n",
        "message_history.append({\"role\": \"system\", \"content\": f\"my name is \"+f\"{user_name}\"})\n",
        "message_history.append({\"role\": \"system\", \"content\": \"Today is \" + f\"{today}.\" + \" Please remember I worked out today. The days I didn't say were the days I didn't exercise.\"})\n",
        "message_history.append({\"role\": \"system\", \"content\": f\"The existing date will be maintained until a new date is entered.\"})         \n",
        "init_len = len(message_history)\n",
        "\n",
        "# chatbot 구현\n",
        "def chat_model(input):\n",
        "\n",
        "    message_history.append({\"role\": \"user\", \"content\": f\"{input}\"})\n",
        "\n",
        "    chat = openai.ChatCompletion.create(\n",
        "            model = \"gpt-3.5-turbo\", \n",
        "            messages = message_history,\n",
        "        )\n",
        "\n",
        "    reply_content = chat.choices[0].message.content\n",
        "    message_history.append({\"role\": \"assistant\", \"content\": f\"{reply_content}\"})\n",
        "\n",
        "    with open(file_name, 'w') as outfile:\n",
        "      json.dump(message_history, outfile)\n",
        "\n",
        "    response = [(message_history[i][\"content\"], message_history[i+1][\"content\"]) for i in range(init_len, len(message_history)-1, 2)]\n",
        "    \n",
        "    return response\n",
        "\n",
        "# gradio\n",
        "with gr.Blocks() as demo: \n",
        "\n",
        "    chatbot = gr.Chatbot() \n",
        "\n",
        "    with gr.Row(): \n",
        "        txt = gr.Textbox(show_label=False, placeholder=\"Enter text and press enter\").style(container=False)\n",
        "\n",
        "    txt.submit(chat_model, txt, chatbot)\n",
        " \n",
        "    txt.submit(None, None, txt, _js=\"() => {''}\") \n",
        "\n",
        "gr.Interface(fn=chat_model, inputs=txt, outputs=chatbot, title=\"DZM\",\n",
        "             description=\"How was your workout today?\",\n",
        "             theme=\"compact\").launch(share=True)"
      ]
    },
    {
      "cell_type": "code",
      "execution_count": null,
      "metadata": {
        "id": "T6sIJv2vvKN2"
      },
      "outputs": [],
      "source": []
    }
  ],
  "metadata": {
    "colab": {
      "provenance": []
    },
    "kernelspec": {
      "display_name": "Python 3",
      "name": "python3"
    },
    "language_info": {
      "codemirror_mode": {
        "name": "ipython",
        "version": 3
      },
      "file_extension": ".py",
      "mimetype": "text/x-python",
      "name": "python",
      "nbconvert_exporter": "python",
      "pygments_lexer": "ipython3",
      "version": "3.10.6"
    }
  },
  "nbformat": 4,
  "nbformat_minor": 0
}
